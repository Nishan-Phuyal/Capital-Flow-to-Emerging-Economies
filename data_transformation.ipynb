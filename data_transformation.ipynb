{
 "cells": [
  {
   "cell_type": "code",
   "execution_count": 94,
   "metadata": {},
   "outputs": [],
   "source": [
    "import pandas as pd\n",
    "import numpy as np\n",
    "import seaborn as sns\n",
    "import matplotlib.pyplot as plt\n",
    "import plotly.express as px"
   ]
  },
  {
   "cell_type": "code",
   "execution_count": 95,
   "metadata": {},
   "outputs": [],
   "source": [
    "# import excel file from local drive \n",
    "file_path = r\"C:\\Users\\phuya\\OneDrive\\Pet_Project\\Country_Portfolio\\Capital Flow Datasets (Koepke Paetzold 2020) - Version as of January 2023.xlsx\"\n"
   ]
  },
  {
   "cell_type": "code",
   "execution_count": 96,
   "metadata": {},
   "outputs": [],
   "source": [
    "# creating a nice dataframe from semi-structured multi header Data. \n",
    "df = pd.read_excel(file_path, sheet_name = \"Monthly Capital Flow Dataset\", header = 2).set_index(\"time\").T\n",
    "df = df.iloc[:,:-3] # excluding the redundent columns. \n",
    "df.columns = [\"country_code\", \"Indicies\"] + list(df.columns[2:]) # renaming the columns \n",
    "df.reset_index(drop=False, inplace=True)\n",
    "df.rename(columns={\"index\":\"Countries\"}, inplace=True)\n",
    "df[\"Countries\"] = df[\"Countries\"].apply(lambda x: np.nan if \"Unnamed\" in x else x)\n",
    "df[\"Countries\"] = df[\"Countries\"].ffill()\n"
   ]
  },
  {
   "cell_type": "code",
   "execution_count": 98,
   "metadata": {},
   "outputs": [],
   "source": [
    "# Using Melt function to transform the Data in more accessable way\n",
    "\n",
    "df =  df.melt(id_vars= [\"Countries\", \"country_code\", \"Indicies\"], # variables which  retain ther position as it is.\n",
    "              var_name=\"Date\",\n",
    "              value_name= \"Value\") # nameing the rest of the column which is getting un-pivoted "
   ]
  },
  {
   "cell_type": "code",
   "execution_count": 99,
   "metadata": {},
   "outputs": [],
   "source": [
    "# Date Transformation\n",
    "df[\"Date\"] = pd.to_datetime(df[\"Date\"], format= \"%Y%b\")\n",
    "df[\"Year\"] = pd.DatetimeIndex(df[\"Date\"]).year # is useful for creating interactive app. \n",
    "df[\"Month\"] = pd.DatetimeIndex(df[\"Date\"]).month # is useful for creating interactive app. \n"
   ]
  },
  {
   "cell_type": "code",
   "execution_count": 100,
   "metadata": {},
   "outputs": [],
   "source": [
    "# retaining just the name of country, to merge with alpha code dataset\n",
    "df[\"Countries\"] = df[\"Countries\"].replace(to_replace=r\"\\(.*\\)\", value=\"\", regex=True)\n",
    "df[\"Countries\"] = df[\"Countries\"].str.strip()"
   ]
  },
  {
   "cell_type": "code",
   "execution_count": 101,
   "metadata": {},
   "outputs": [],
   "source": [
    "# importing the dataframe with apha codes and mering with working dataframe. \n",
    "df_Alppha_Codes = pd.read_csv(\"alpha_country_codes.csv\")\n",
    "df_Alppha_Codes.rename(columns={\"Country\": \"Countries\"}, inplace=True)\n",
    "df= pd.merge(df, df_Alppha_Codes[[\"Countries\", \"Alpha-3 code\"]], how=\"left\", on=\"Countries\")\n"
   ]
  },
  {
   "cell_type": "code",
   "execution_count": 103,
   "metadata": {},
   "outputs": [
    {
     "data": {
      "text/plain": [
       "array(['Emerging Markets', 'Korea', 'Philippines', 'Czech Republic',\n",
       "       'Slovak Republic', 'North Macedonia'], dtype=object)"
      ]
     },
     "execution_count": 103,
     "metadata": {},
     "output_type": "execute_result"
    }
   ],
   "source": [
    "# Manually filing the missing countries while merging two dataframes. \n",
    "missing_countries = df[df[\"Alpha-3 code\"].isna()].Countries.unique()\n",
    "df_Alppha_Codes[df_Alppha_Codes[\"Countries\"].str.contains(\"Macedonia\")]"
   ]
  },
  {
   "cell_type": "code",
   "execution_count": 105,
   "metadata": {},
   "outputs": [],
   "source": [
    "df.loc[df[\"Countries\"] == \"Korea\", \"Alpha-3 code\"] = df.loc[df[\"Countries\"] == \"Korea\", \"Alpha-3 code\"].fillna(\"KOR\")\n",
    "df.loc[df[\"Countries\"] == \"Philippines\", \"Alpha-3 code\"] = df.loc[df[\"Countries\"] == \"Philippines\", \"Alpha-3 code\"].fillna(\"PHL\")\n",
    "df.loc[df[\"Countries\"] == \"Czech Republic\", \"Alpha-3 code\"] = df.loc[df[\"Countries\"] == \"Czech Republic\", \"Alpha-3 code\"].fillna(\"CZE\")\n",
    "df.loc[df[\"Countries\"] == \"Slovak Republic\", \"Alpha-3 code\"] = df.loc[df[\"Countries\"] == \"Slovak Republic\", \"Alpha-3 code\"].fillna(\"SVK\")\n",
    "df.loc[df[\"Countries\"] == \"North Macedonia\", \"Alpha-3 code\"] = df.loc[df[\"Countries\"] == \"North Macedonia\", \"Alpha-3 code\"].fillna(\"MKD\")\n",
    "\n"
   ]
  },
  {
   "cell_type": "code",
   "execution_count": 108,
   "metadata": {},
   "outputs": [],
   "source": [
    "#pd.read_csv(\"Clean_Capital_Flow_data.csv\")"
   ]
  }
 ],
 "metadata": {
  "kernelspec": {
   "display_name": "dein_kernel_name",
   "language": "python",
   "name": "dein_kernel_name"
  },
  "language_info": {
   "codemirror_mode": {
    "name": "ipython",
    "version": 3
   },
   "file_extension": ".py",
   "mimetype": "text/x-python",
   "name": "python",
   "nbconvert_exporter": "python",
   "pygments_lexer": "ipython3",
   "version": "3.12.4"
  }
 },
 "nbformat": 4,
 "nbformat_minor": 2
}
